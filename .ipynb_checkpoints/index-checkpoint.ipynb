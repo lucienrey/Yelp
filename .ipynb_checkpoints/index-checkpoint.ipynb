{
 "cells": [
  {
   "cell_type": "markdown",
   "metadata": {
    "slideshow": {
     "slide_type": "slide"
    }
   },
   "source": [
    "\n",
    "\n",
    "# Predicting Business Ratings with Yelp Dataset\n",
    "\n",
    "<img src=\"https://upload.wikimedia.org/wikipedia/commons/a/ad/Yelp_Logo.svg\" style=\"float: left; margin: 20px; height: 106px\">\n",
    "\n",
    "### General Assembly - Data Science Course - March 2018\n",
    "#### Lucien Rey"
   ]
  },
  {
   "cell_type": "markdown",
   "metadata": {
    "slideshow": {
     "slide_type": "slide"
    }
   },
   "source": [
    "# Table of Content\n",
    "1. Project Idea\n",
    "2. Dataset\n",
    "3. EDA\n",
    "4. Model Results\n",
    "5. Conclusion\n"
   ]
  },
  {
   "cell_type": "markdown",
   "metadata": {
    "slideshow": {
     "slide_type": "slide"
    }
   },
   "source": [
    "# 1. Project Idea\n",
    "\n",
    "- Predicting ratings for businesses listed on Yelp\n",
    "- Ratings between a range of 1-3 and 4-5 for \"BAD\", and \"GOOD\", respectively.\n",
    "\n",
    "## Plan of actions\n",
    "1. Focus on Dataset\n",
    "2. Add more variables, such as specific categories, open during weekend, tips, etc..\n",
    "3. Add sentiment analysis on reviews and tips\n",
    "4. Compare different models"
   ]
  },
  {
   "cell_type": "markdown",
   "metadata": {
    "slideshow": {
     "slide_type": "slide"
    }
   },
   "source": [
    "# 2. The Dataset"
   ]
  },
  {
   "cell_type": "markdown",
   "metadata": {
    "slideshow": {
     "slide_type": "subslide"
    }
   },
   "source": [
    "# 2.1 The Dataset\n",
    "\n",
    "- All available on their website and on kaggle\n",
    "    - https://www.yelp.com/dataset\n",
    "    - https://www.kaggle.com/yelp-dataset/yelp-dataset\n",
    "- Large dataset available in JSON, SQL, CSV format\n",
    "- Used 5 different .csv files:\n",
    "    - yelp_business_attributes.csv: attributes from each business (Dogs allowed, Wifi available, etc..)\n",
    "    - yelp_tips: all the tips, which are like reviews / short tip from customers.\n",
    "    - yelp_business_hours: which contains the opening hours of each business.\n",
    "    - yelp_reviews: contains all 5 millions reviews for each user\n",
    "\n",
    "\n",
    "\n",
    "<img src=\"yelp_reviews.png\" style=\"float: middle; height: 106px\">"
   ]
  },
  {
   "cell_type": "markdown",
   "metadata": {
    "slideshow": {
     "slide_type": "subslide"
    }
   },
   "source": [
    "# 2.2 Data Cleanup\n",
    "- Select only business that is open\n",
    "- Added the attributes (92 columns) and reduce to NA threshold of 5000\n",
    "- Group the different categories (54600) with threshold 1000 and added back to the dataset\n",
    "- Added number of tips for each business\n",
    "- Added dummy if the business is open on weekend or not\n",
    "- Transform the target to Good/Bad\n",
    "\n",
    "Dataset Shape = (146702, 165)"
   ]
  },
  {
   "cell_type": "code",
   "execution_count": 1,
   "metadata": {
    "slideshow": {
     "slide_type": "skip"
    }
   },
   "outputs": [],
   "source": [
    "# import all packages\n",
    "import numpy as np\n",
    "import pandas as pd\n",
    "import numba.cuda\n",
    "from numba import jit\n",
    "import cython\n",
    "import matplotlib.pyplot as plt\n",
    "import seaborn as sns; sns.set(style=\"ticks\", color_codes=True)\n",
    "\n",
    "from sklearn import datasets, linear_model\n",
    "from sklearn.metrics import mean_squared_error\n",
    "from sklearn.linear_model import LinearRegression, LogisticRegression\n",
    "from sklearn.neighbors import KNeighborsClassifier\n",
    "from sklearn.model_selection import train_test_split, cross_val_score, cross_val_predict\n",
    "from itertools import combinations\n",
    "from collections import defaultdict\n",
    "from sklearn.preprocessing import StandardScaler\n",
    "from sklearn.tree import DecisionTreeClassifier\n",
    "from sklearn.ensemble import RandomForestClassifier\n",
    "from sklearn.model_selection import GridSearchCV\n",
    "from sklearn.metrics import confusion_matrix\n",
    "\n",
    "%config InlineBackend.figure_format = 'retina'\n",
    "%matplotlib inline\n",
    "\n",
    "plt.style.use('fivethirtyeight')\n",
    "# Will display all rows\n",
    "pd.set_option('display.max_columns', 500)\n"
   ]
  },
  {
   "cell_type": "markdown",
   "metadata": {
    "slideshow": {
     "slide_type": "slide"
    }
   },
   "source": []
  },
  {
   "cell_type": "code",
   "execution_count": 5,
   "metadata": {},
   "outputs": [
    {
     "data": {
      "image/png": "[encoded data removed]",
      "text/plain": [
       "<Figure size 432x288 with 1 Axes>"
      ]
     },
     "metadata": {
      "image/png": {
       "height": 248,
       "width": 422
      }
     },
     "output_type": "display_data"
    }
   ],
   "source": []
  },
  {
   "cell_type": "code",
   "execution_count": null,
   "metadata": {},
   "outputs": [],
   "source": []
  }
 ],
 "metadata": {
  "celltoolbar": "Slideshow",
  "kernelspec": {
   "display_name": "Python 3",
   "language": "python",
   "name": "python3"
  },
  "language_info": {
   "codemirror_mode": {
    "name": "ipython",
    "version": 3
   },
   "file_extension": ".py",
   "mimetype": "text/x-python",
   "name": "python",
   "nbconvert_exporter": "python",
   "pygments_lexer": "ipython3",
   "version": "3.6.4"
  }
 },
 "nbformat": 4,
 "nbformat_minor": 2
}
