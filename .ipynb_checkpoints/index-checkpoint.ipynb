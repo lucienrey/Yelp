{
 "cells": [
  {
   "cell_type": "markdown",
   "metadata": {
    "slideshow": {
     "slide_type": "slide"
    }
   },
   "source": [
    "\n",
    "\n",
    "<img src=\"https://upload.wikimedia.org/wikipedia/commons/a/ad/Yelp_Logo.svg\" style=\"float: left; margin: 20px; height: 106px\">\n",
    "# Predicting Business Ratings with Yelp Dataset\n",
    "\n",
    "\n",
    "\n",
    "## General Assembly - Data Science Course - March 2018\n",
    "### Lucien Rey"
   ]
  },
  {
   "cell_type": "markdown",
   "metadata": {
    "slideshow": {
     "slide_type": "slide"
    }
   },
   "source": [
    "Table of Content\n",
    "1. Project Idea\n",
    "2. Dataset\n",
    "3. EDA\n",
    "4. Model Results\n",
    "5. Conclusion\n"
   ]
  },
  {
   "cell_type": "markdown",
   "metadata": {
    "slideshow": {
     "slide_type": "slide"
    }
   },
   "source": [
    "# 1. Project Idea\n",
    "\n",
    "- Predicting ratings for businesses listed on Yelp\n",
    "- Ratings between a range of 1-3 and 4-5 for \"BAD\", and \"GOOD\", respectively.\n",
    "\n",
    "## Plan of actions\n",
    "1. Focus on Dataset\n",
    "2. Add more variables, such as specific categories, open during weekend, tips, etc..\n",
    "3. Add sentiment analysis on reviews and tips\n",
    "4. Compare different models"
   ]
  },
  {
   "cell_type": "markdown",
   "metadata": {
    "slideshow": {
     "slide_type": "slide"
    }
   },
   "source": [
    "# 2. The Dataset\n",
    "\n",
    "- All available on their website and on kaggle\n",
    "    - https://www.yelp.com/dataset\n",
    "    - https://www.kaggle.com/yelp-dataset/yelp-dataset\n",
    "- Large dataset available in JSON, SQL, CSV format\n",
    "- Used 5 different .csv files:\n",
    "    - yelp_business_attributes.csv: attributes from each business (Dogs allowed, Wifi available, etc..)\n",
    "    - yelp_tips: all the tips, which are like reviews / short tip from customers.\n",
    "    - yelp_business_hours: which contains the opening hours of each business.\n",
    "    - yelp_reviews: contains all 5 millions reviews for each user\n",
    "\n",
    "\n",
    "\n",
    "<img src=\"yelp_reviews.png\" style=\"float: middle; margin: 20px; height: 106px\">\n"
   ]
  },
  {
   "cell_type": "markdown",
   "metadata": {
    "slideshow": {
     "slide_type": "subslide"
    }
   },
   "source": [
    "test"
   ]
  }
 ],
 "metadata": {
  "celltoolbar": "Slideshow",
  "kernelspec": {
   "display_name": "Python 3",
   "language": "python",
   "name": "python3"
  },
  "language_info": {
   "codemirror_mode": {
    "name": "ipython",
    "version": 3
   },
   "file_extension": ".py",
   "mimetype": "text/x-python",
   "name": "python",
   "nbconvert_exporter": "python",
   "pygments_lexer": "ipython3",
   "version": "3.6.4"
  }
 },
 "nbformat": 4,
 "nbformat_minor": 2
}
