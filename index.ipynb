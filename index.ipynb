{
 "cells": [
  {
   "cell_type": "markdown",
   "metadata": {
    "slideshow": {
     "slide_type": "slide"
    }
   },
   "source": [
    "\n",
    "\n",
    "# Predicting Business Ratings with Yelp Dataset\n",
    "\n",
    "<img src=\"https://upload.wikimedia.org/wikipedia/commons/a/ad/Yelp_Logo.svg\" style=\"float: left; margin: 20px; height: 106px\">\n",
    "\n",
    "## General Assembly - Data Science Course - March 2018\n",
    "### Lucien Rey"
   ]
  },
  {
   "cell_type": "markdown",
   "metadata": {
    "slideshow": {
     "slide_type": "slide"
    }
   },
   "source": [
    "Table of Content\n"
   ]
  },
  {
   "cell_type": "markdown",
   "metadata": {
    "slideshow": {
     "slide_type": "subslide"
    }
   },
   "source": [
    "# Project Idea\n",
    "\n",
    "- Predicting ratings for businesses listed on Yelp\n",
    "- Ratings between a range of 1-3 and 4-5 for \"BAD\", and \"GOOD\", respectively.\n",
    "adsfasdf  \n",
    "\n",
    "1. Focus on our dataset\n",
    "2. Add more variables, such specific categories, open during week, tips\n",
    "\n",
    "Focus on our dataset \n",
    "2) Add more variables, such specific categories, open during week, tips\n",
    "3) Add a sentiment analysis on the reviews\n",
    "4) Modeling"
   ]
  },
  {
   "cell_type": "markdown",
   "metadata": {
    "slideshow": {
     "slide_type": "slide"
    }
   },
   "source": [
    "stset"
   ]
  },
  {
   "cell_type": "markdown",
   "metadata": {
    "slideshow": {
     "slide_type": "subslide"
    }
   },
   "source": [
    "test"
   ]
  }
 ],
 "metadata": {
  "celltoolbar": "Slideshow",
  "kernelspec": {
   "display_name": "Python 3",
   "language": "python",
   "name": "python3"
  },
  "language_info": {
   "codemirror_mode": {
    "name": "ipython",
    "version": 3
   },
   "file_extension": ".py",
   "mimetype": "text/x-python",
   "name": "python",
   "nbconvert_exporter": "python",
   "pygments_lexer": "ipython3",
   "version": "3.6.4"
  }
 },
 "nbformat": 4,
 "nbformat_minor": 2
}
