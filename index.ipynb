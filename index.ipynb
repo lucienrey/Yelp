{
 "cells": [
  {
   "cell_type": "markdown",
   "metadata": {
    "slideshow": {
     "slide_type": "slide"
    }
   },
   "source": [
    "<br>\n",
    "\n",
    "# Predicting Business Ratings with Yelp Dataset\n",
    "\n",
    "### General Assembly - Data Science Course - March 2018\n",
    "#### Lucien Rey\n",
    "\n",
    "\n",
    " \n",
    "<img src=\"https://upload.wikimedia.org/wikipedia/commons/a/ad/Yelp_Logo.svg\" style=\"float: left; height: 106px\">"
   ]
  },
  {
   "cell_type": "markdown",
   "metadata": {
    "slideshow": {
     "slide_type": "slide"
    }
   },
   "source": [
    " \n",
    "<img src=\"yelp_mainpage.png\" style=\"align:bottom;left:30;height:500px\">"
   ]
  },
  {
   "cell_type": "markdown",
   "metadata": {
    "slideshow": {
     "slide_type": "slide"
    }
   },
   "source": [
    "# Table of Content\n",
    "---\n",
    "1. Project Idea\n",
    "2. Dataset\n",
    "3. EDA\n",
    "4. Initial Results\n",
    "5. NLP\n",
    "6. Conclusion\n"
   ]
  },
  {
   "cell_type": "markdown",
   "metadata": {
    "slideshow": {
     "slide_type": "slide"
    }
   },
   "source": [
    "# 1. Project Idea\n",
    "---\n",
    "\n",
    "- Predicting ratings for businesses listed on Yelp\n",
    "- Ratings between a range of 1-3 and 4-5 for \"BAD\", and \"GOOD\", respectively.\n",
    "\n",
    "## Plan of actions\n",
    "1. Focus on Dataset\n",
    "2. Add more variables, such as specific categories, open during weekend, tips, etc..\n",
    "3. Add sentiment analysis on reviews and tips\n",
    "4. Compare different models"
   ]
  },
  {
   "cell_type": "markdown",
   "metadata": {
    "slideshow": {
     "slide_type": "slide"
    }
   },
   "source": [
    "# 2. The Dataset"
   ]
  },
  {
   "cell_type": "markdown",
   "metadata": {
    "slideshow": {
     "slide_type": "subslide"
    }
   },
   "source": [
    "# 2.1 The Dataset\n",
    "---\n",
    "\n",
    "- All available on their website and on kaggle\n",
    "    - https://www.yelp.com/dataset\n",
    "    - https://www.kaggle.com/yelp-dataset/yelp-dataset\n",
    "- Large dataset available in JSON, SQL, CSV format\n",
    "- Used 5 different .csv files:\n",
    "    - yelp_business.csv: id, name, postcode, latitude, review count and categories.\n",
    "    - yelp_business_attributes.csv: attributes from each business (Dogs allowed, Wifi available, etc..)\n",
    "    - yelp_tip: all the tips, which are like reviews / short tip from customers.\n",
    "    - yelp_business_hours: which contains the opening hours of each business.\n",
    "    - yelp_reviews: contains all 5 millions reviews for each user\n",
    "\n",
    "\n",
    "<img src=\"yelp_reviews.png\" style=\"align:bottom;left:30;height:106px\">\n",
    "        \n"
   ]
  },
  {
   "cell_type": "code",
   "execution_count": 54,
   "metadata": {
    "slideshow": {
     "slide_type": "skip"
    }
   },
   "outputs": [],
   "source": [
    "yelp_business = pd.read_csv('/Users/lucienrey/Documents/2018/General Assembly/Final Project - TEST/yelp-dataset/yelp_business.csv')\n",
    "yelp_business_attributes = pd.read_csv('/Users/lucienrey/Documents/2018/General Assembly/Final Project - TEST/yelp-dataset/yelp_business_attributes.csv', na_values= 'Na', low_memory=False)\n",
    "yelp_tip = pd.read_csv('/Users/lucienrey/Documents/2018/General Assembly/Final Project - TEST/yelp-dataset/yelp_tip.csv')\n",
    "yelp_business_hours = pd.read_csv('/Users/lucienrey/Documents/2018/General Assembly/Final Project - TEST/yelp-dataset/yelp_business_hours.csv')\n",
    "yelp_review = pd.read_csv('/Users/lucienrey/Documents/2018/General Assembly/Final Project - TEST/yelp-dataset/yelp_review.csv')"
   ]
  },
  {
   "cell_type": "markdown",
   "metadata": {
    "slideshow": {
     "slide_type": "subslide"
    }
   },
   "source": [
    "# Data Shape\n",
    "---\n"
   ]
  },
  {
   "cell_type": "code",
   "execution_count": 57,
   "metadata": {
    "slideshow": {
     "slide_type": "fragment"
    }
   },
   "outputs": [
    {
     "name": "stdout",
     "output_type": "stream",
     "text": [
      "The shape of yelp_business.csv: (174567, 13)\n",
      "The shape of yelp_business_attributes.csv: (152041, 82)\n",
      "The shape of yelp_tip.csv: (1098324, 5)\n",
      "The shape of yelp_business_hours.csv: (174567, 8)\n",
      "The shape of yelp_review.csv: (5261668, 9)\n"
     ]
    }
   ],
   "source": [
    "print(\"The shape of yelp_business.csv:\", yelp_business.shape)\n",
    "print(\"The shape of yelp_business_attributes.csv:\", yelp_business_attributes.shape)\n",
    "print(\"The shape of yelp_tip.csv:\", yelp_tip.shape)\n",
    "print(\"The shape of yelp_business_hours.csv:\", yelp_business_hours.shape)\n",
    "print(\"The shape of yelp_review.csv:\", yelp_review.shape)"
   ]
  },
  {
   "cell_type": "markdown",
   "metadata": {
    "slideshow": {
     "slide_type": "subslide"
    }
   },
   "source": [
    "# 2.2 Data Cleanup\n",
    "---\n",
    "\n",
    "- Select only business that is open\n",
    "- Added the attributes (82 columns) and reduce to NA threshold of 5000\n",
    "- Group the different categories (54600) with threshold 1000 and added back to the dataset\n",
    "- Added number of tips for each business\n",
    "- Added dummy if the business is open on weekend or not\n",
    "- Transform the target to Good/Bad\n",
    "\n",
    "Dataset Shape = (146702, 165)"
   ]
  },
  {
   "cell_type": "code",
   "execution_count": 58,
   "metadata": {
    "slideshow": {
     "slide_type": "skip"
    }
   },
   "outputs": [],
   "source": [
    "# import all packages\n",
    "import numpy as np\n",
    "import pandas as pd\n",
    "import numba.cuda\n",
    "from numba import jit\n",
    "import cython\n",
    "import matplotlib.pyplot as plt\n",
    "import seaborn as sns; sns.set(style=\"ticks\", color_codes=True)\n",
    "\n",
    "from sklearn import datasets, linear_model\n",
    "from sklearn.metrics import mean_squared_error\n",
    "from sklearn.linear_model import LinearRegression, LogisticRegression\n",
    "from sklearn.neighbors import KNeighborsClassifier\n",
    "from sklearn.model_selection import train_test_split, cross_val_score, cross_val_predict\n",
    "from itertools import combinations\n",
    "from collections import defaultdict\n",
    "from sklearn.preprocessing import StandardScaler\n",
    "from sklearn.tree import DecisionTreeClassifier\n",
    "from sklearn.ensemble import RandomForestClassifier\n",
    "from sklearn.model_selection import GridSearchCV\n",
    "from sklearn.metrics import confusion_matrix\n",
    "\n",
    "%config InlineBackend.figure_format = 'retina'\n",
    "%matplotlib inline\n",
    "\n",
    "plt.style.use('fivethirtyeight')\n",
    "# Will display all rows\n",
    "pd.set_option('display.max_columns', 500)\n",
    "\n",
    "del yelp_business \n",
    "del yelp_business_attributes \n",
    "del yelp_tip \n",
    "del yelp_business_hours \n",
    "del yelp_review \n",
    "\n",
    "yelp_business = pd.read_csv('/Users/lucienrey/Documents/2018/General Assembly/Final Project - TEST/yelp-dataset/data_before_EDA.csv')"
   ]
  },
  {
   "cell_type": "markdown",
   "metadata": {
    "slideshow": {
     "slide_type": "slide"
    }
   },
   "source": [
    "# 3. EDA"
   ]
  },
  {
   "cell_type": "markdown",
   "metadata": {
    "slideshow": {
     "slide_type": "subslide"
    }
   },
   "source": [
    "# 3.1 EDA - Stars Ratings\n",
    "---\n",
    "\n",
    "<img src=\"stars.png\" style=\"align:bottom;left:30;height:400px\">"
   ]
  },
  {
   "cell_type": "markdown",
   "metadata": {
    "slideshow": {
     "slide_type": "subslide"
    }
   },
   "source": [
    "# 3.2 EDA - Review and Stars Ratings\n",
    "---\n",
    "\n",
    "<img src=\"distri.png\" style=\"align:bottom;left:30;height:400px\">"
   ]
  },
  {
   "cell_type": "markdown",
   "metadata": {
    "slideshow": {
     "slide_type": "subslide"
    }
   },
   "source": [
    "# 3.3 EDA - Review and Stars Ratings\n",
    "---\n",
    "\n",
    "<img src=\"categories.png\" style=\"align:bottom;left:30;height:400px\">"
   ]
  },
  {
   "cell_type": "markdown",
   "metadata": {
    "slideshow": {
     "slide_type": "slide"
    }
   },
   "source": [
    "# 4. Initial Models\n"
   ]
  },
  {
   "cell_type": "markdown",
   "metadata": {
    "slideshow": {
     "slide_type": "subslide"
    }
   },
   "source": [
    "# 4.2 Initial Models\n",
    "---\n",
    "\n",
    "<img src=\"model1.png\" style=\"align:bottom;left:30;height:400px\">"
   ]
  },
  {
   "cell_type": "markdown",
   "metadata": {
    "slideshow": {
     "slide_type": "slide"
    }
   },
   "source": [
    "# 5. NLP\n"
   ]
  },
  {
   "cell_type": "markdown",
   "metadata": {
    "slideshow": {
     "slide_type": "subslide"
    }
   },
   "source": [
    "# 5.1 NLP\n",
    "---\n",
    "\n",
    "- Analysis on the reviews (5m reviews) and tips (1m tips)\n",
    "- Used nltk package with the SentimentIntensityAnalyzer and Vader\n",
    "    - This will analyse each text and provides a sentiment between 0 to 1 for Negative, Positive, Neutral impression. \n",
    "    - The Compound is simply an average of all three sentiments.\n",
    "- Review file also provides with the number of useful /funny/ cool votes received for each comments. Added theses variables to the main dataset.\n",
    "\n",
    "Dataset Shape = (146702, 176)"
   ]
  },
  {
   "cell_type": "markdown",
   "metadata": {
    "slideshow": {
     "slide_type": "subslide"
    }
   },
   "source": [
    "# 5.2 Examples\n",
    "---\n",
    "\n",
    "“VADER is VERY SMART, handsome, and FUNNY.”<br>\n",
    "-> {'neg': 0.0, 'neu': 0.246, 'pos': **0.754**, 'compound': 0.9227}\n",
    "\n",
    "\n",
    "“VADER is not smart, handsome, nor funny.”<br>\n",
    "-> {'neg': **0.646**, 'neu': 0.354, 'pos': 0.0, 'compound': -0.7424}\n",
    "\n",
    "“Make sure you :) or :D today!”<br>\n",
    "-> {'neg': 0.0, 'neu': 0.294, 'pos': **0.706**, 'compound': 0.8633}"
   ]
  },
  {
   "cell_type": "markdown",
   "metadata": {
    "slideshow": {
     "slide_type": "subslide"
    }
   },
   "source": [
    "# 5.3 Final Accuracy Results\n",
    "---\n",
    "\n",
    "<img src=\"Untitled.gif\" style=\"align:bottom;left:30;height:400px\">"
   ]
  },
  {
   "cell_type": "markdown",
   "metadata": {
    "slideshow": {
     "slide_type": "slide"
    }
   },
   "source": [
    "# 6. Conclusion\n"
   ]
  },
  {
   "cell_type": "markdown",
   "metadata": {
    "slideshow": {
     "slide_type": "subslide"
    }
   },
   "source": [
    "# 6.1 Confusion Matrix\n",
    "---\n",
    "\n",
    "\n",
    "<img src=\"confusion_1.png\" style=\"float: left; height: 300px\">\n",
    "<img src=\"confusion_2.png\" style=\"float: left; height: 300px\">"
   ]
  },
  {
   "cell_type": "markdown",
   "metadata": {
    "slideshow": {
     "slide_type": "subslide"
    }
   },
   "source": [
    "# 6.2 Train Test \n",
    "---\n",
    "\n",
    "<img src=\"accu_1.png\" style=\"float: left; height: 80px\">   <br><br>\n",
    "of accuracy in predicting the rating of a business in the Yelp in the **train** dataset. \n",
    "\n",
    "\n",
    "<br><br>\n",
    "\n",
    "\n",
    "\n",
    "<img src=\"accu_2.png\" style=\"float: left; height: 80px\"> <br><br>\n",
    "of accuracy in predicting the rating of a business in the Yelp in the **test** dataset."
   ]
  },
  {
   "cell_type": "markdown",
   "metadata": {
    "slideshow": {
     "slide_type": "subslide"
    }
   },
   "source": [
    "# 6.3 Importance Score\n",
    "---\n",
    "\n",
    "Below are the features that are the most important for our model:\n",
    "\n",
    "**Features**|**Importance Score**\n",
    ":-----:|:-----:\n",
    "pos\\_review|0.298164\n",
    "comp\\_review|0.228329\n",
    "neg\\_review|0.146903\n",
    "neu\\_review|0.090697\n",
    "comp\\_tip|0.019001\n",
    "longitude|0.016482\n",
    "latitude|0.016118\n",
    "categoriesrestaurants|0.015643\n"
   ]
  },
  {
   "cell_type": "markdown",
   "metadata": {
    "slideshow": {
     "slide_type": "subslide"
    }
   },
   "source": [
    "# 6.4 Conclusion\n",
    "---\n",
    "\n",
    "\n",
    "- Improved our model from 0.67 to 0.82 by adding NLP into our model. This has a strong influence in our model. \n",
    "- We can see that by using GridSearch and Lasso slightly improve our model, but all of them are around 80% accuracy with NLP"
   ]
  },
  {
   "cell_type": "markdown",
   "metadata": {
    "slideshow": {
     "slide_type": "slide"
    }
   },
   "source": [
    "# Thank You!\n",
    "<img src=\"https://upload.wikimedia.org/wikipedia/commons/a/ad/Yelp_Logo.svg\" style=\"height: 200px\">\n",
    "\n",
    "<br><br>\n",
    "\n",
    "Lucien REY <br>\n",
    "https://github.com/lucienrey/Yelp\n"
   ]
  },
  {
   "cell_type": "code",
   "execution_count": null,
   "metadata": {},
   "outputs": [],
   "source": []
  }
 ],
 "metadata": {
  "celltoolbar": "Slideshow",
  "kernelspec": {
   "display_name": "Python 3",
   "language": "python",
   "name": "python3"
  },
  "language_info": {
   "codemirror_mode": {
    "name": "ipython",
    "version": 3
   },
   "file_extension": ".py",
   "mimetype": "text/x-python",
   "name": "python",
   "nbconvert_exporter": "python",
   "pygments_lexer": "ipython3",
   "version": "3.6.4"
  }
 },
 "nbformat": 4,
 "nbformat_minor": 2
}
